{
 "cells": [
  {
   "cell_type": "code",
   "execution_count": 1,
   "id": "b69f1f0d",
   "metadata": {},
   "outputs": [
    {
     "data": {
      "text/plain": [
       "array(['HIP HOP', 'CLASSICAL'], dtype=object)"
      ]
     },
     "execution_count": 1,
     "metadata": {},
     "output_type": "execute_result"
    }
   ],
   "source": [
    "import pandas as pd\n",
    "df_music=pd.read_excel('Music.xlsx')\n",
    "X=df_music.drop(columns='Genre')\n",
    "y=df_music['Genre']\n",
    "from sklearn.tree import DecisionTreeClassifier\n",
    "model=DecisionTreeClassifier(criterion='entropy')\n",
    "model.fit(X,y)\n",
    "prediction=model.predict([[23,1],[31,0]])\n",
    "prediction"
   ]
  },
  {
   "cell_type": "code",
   "execution_count": 2,
   "id": "4b141ae5",
   "metadata": {},
   "outputs": [],
   "source": [
    "from sklearn import tree"
   ]
  },
  {
   "cell_type": "code",
   "execution_count": 3,
   "id": "7a3eed59",
   "metadata": {},
   "outputs": [],
   "source": [
    "tree.export_graphviz(model,out_file='music-recommender.dot',feature_names=['Age','Gender'],class_names=sorted(y.unique()),label='all', rounded=True,filled='True')"
   ]
  },
  {
   "cell_type": "code",
   "execution_count": 4,
   "id": "1855be1d",
   "metadata": {},
   "outputs": [
    {
     "data": {
      "text/plain": [
       "<pydotplus.graphviz.Dot at 0x193640221c0>"
      ]
     },
     "execution_count": 4,
     "metadata": {},
     "output_type": "execute_result"
    }
   ],
   "source": [
    "import pydotplus\n",
    "pydot_graph = pydotplus.graph_from_dot_file(\"music-recommender.dot\")\n",
    "pydot_graph"
   ]
  },
  {
   "cell_type": "code",
   "execution_count": null,
   "id": "1d4893a3",
   "metadata": {},
   "outputs": [],
   "source": [
    "from IPython.display import Image\n",
    "Image(pydot_graph.create_png())"
   ]
  }
 ],
 "metadata": {
  "kernelspec": {
   "display_name": "Python 3 (ipykernel)",
   "language": "python",
   "name": "python3"
  },
  "language_info": {
   "codemirror_mode": {
    "name": "ipython",
    "version": 3
   },
   "file_extension": ".py",
   "mimetype": "text/x-python",
   "name": "python",
   "nbconvert_exporter": "python",
   "pygments_lexer": "ipython3",
   "version": "3.9.7"
  }
 },
 "nbformat": 4,
 "nbformat_minor": 5
}
