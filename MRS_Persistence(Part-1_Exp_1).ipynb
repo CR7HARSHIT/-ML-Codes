{
 "cells": [
  {
   "cell_type": "code",
   "execution_count": 4,
   "id": "23fe4558",
   "metadata": {},
   "outputs": [],
   "source": [
    "import pandas as pd\n",
    "df_music=pd.read_excel('Music.xlsx')\n",
    "# X=df_music.drop(columns='Genre')\n",
    "# y=df_music['Genre']\n",
    "# from sklearn.tree import DecisionTreeClassifier\n",
    "# model=DecisionTreeClassifier(criterion='entropy')\n",
    "# model.fit(X,y)\n",
    "# prediction=model.predict([[23,1],[31,0]])\n",
    "# prediction"
   ]
  },
  {
   "cell_type": "code",
   "execution_count": 5,
   "id": "1f0bb87d",
   "metadata": {},
   "outputs": [
    {
     "data": {
      "text/plain": [
       "['model-music-recommender']"
      ]
     },
     "execution_count": 5,
     "metadata": {},
     "output_type": "execute_result"
    }
   ],
   "source": [
    "import joblib\n",
    "joblib.dump(model,'model-music-recommender')"
   ]
  },
  {
   "cell_type": "code",
   "execution_count": 6,
   "id": "32d899bb",
   "metadata": {},
   "outputs": [],
   "source": [
    "model=joblib.load('model-music-recommender')\n",
    "prediction=model.predict([[23,1],[31,0]])"
   ]
  },
  {
   "cell_type": "code",
   "execution_count": 7,
   "id": "4738b884",
   "metadata": {},
   "outputs": [
    {
     "data": {
      "text/plain": [
       "array(['HIP HOP', 'CLASSICAL'], dtype=object)"
      ]
     },
     "execution_count": 7,
     "metadata": {},
     "output_type": "execute_result"
    }
   ],
   "source": [
    "prediction"
   ]
  }
 ],
 "metadata": {
  "kernelspec": {
   "display_name": "Python 3 (ipykernel)",
   "language": "python",
   "name": "python3"
  },
  "language_info": {
   "codemirror_mode": {
    "name": "ipython",
    "version": 3
   },
   "file_extension": ".py",
   "mimetype": "text/x-python",
   "name": "python",
   "nbconvert_exporter": "python",
   "pygments_lexer": "ipython3",
   "version": "3.9.7"
  }
 },
 "nbformat": 4,
 "nbformat_minor": 5
}
